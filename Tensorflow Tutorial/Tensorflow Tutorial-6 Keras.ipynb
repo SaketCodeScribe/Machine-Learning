{
 "cells": [
  {
   "cell_type": "code",
   "execution_count": 1,
   "metadata": {
    "colab": {},
    "colab_type": "code",
    "id": "t43oCc0yNdT3"
   },
   "outputs": [],
   "source": [
    "#Required to save models in YAML format\n",
    "!pip install -q pyyaml "
   ]
  },
  {
   "cell_type": "code",
   "execution_count": 2,
   "metadata": {
    "colab": {
     "base_uri": "https://localhost:8080/",
     "height": 51
    },
    "colab_type": "code",
    "id": "I185kZpbNdT7",
    "outputId": "c0382487-396e-41aa-d60d-5f3afdd73754"
   },
   "outputs": [
    {
     "name": "stdout",
     "output_type": "stream",
     "text": [
      "1.13.1\n",
      "2.2.4-tf\n"
     ]
    }
   ],
   "source": [
    "from __future__ import absolute_import,division,print_function\n",
    "import tensorflow as tf\n",
    "from tensorflow import keras\n",
    "print(tf.__version__)\n",
    "print(tf.keras.__version__)"
   ]
  },
  {
   "cell_type": "code",
   "execution_count": 3,
   "metadata": {
    "colab": {},
    "colab_type": "code",
    "id": "-_Cr0S6VNdUA"
   },
   "outputs": [],
   "source": [
    "model=keras.Sequential([\n",
    "    keras.layers.Dense(64,activation=tf.nn.relu),\n",
    "    keras.layers.Dense(64,activation=tf.nn.relu),\n",
    "    keras.layers.Dense(10,activation=tf.nn.softmax)\n",
    "])"
   ]
  },
  {
   "cell_type": "markdown",
   "metadata": {
    "colab_type": "text",
    "id": "MX35WoGqNdUD"
   },
   "source": [
    "Configure the layers:\n",
    "\n",
    "There are many tf.keras.layers available with some common constructor parameters:\n",
    "\n",
    "activation: Set the activation function for the layer. This parameter is specified by the name of a built-in function or as a callable object. By default, no activation is applied.\n",
    "\n",
    "kernel_initializer and bias_initializer: The initialization schemes that create the layer's weights (kernel and bias). This \n",
    "parameter is a name or a callable object. This defaults to the \"Glorot uniform\" initializer.\n",
    "\n",
    "kernel_regularizer and bias_regularizer: The regularization schemes that apply the layer's weights (kernel and bias), such as L1 or L2 regularization. By default, no regularization is applied.\n"
   ]
  },
  {
   "cell_type": "code",
   "execution_count": 4,
   "metadata": {
    "colab": {
     "base_uri": "https://localhost:8080/",
     "height": 34
    },
    "colab_type": "code",
    "id": "-NQ655ryNdUE",
    "outputId": "2f51581e-e5df-4dc7-88f6-81ad6471bd97"
   },
   "outputs": [
    {
     "data": {
      "text/plain": [
       "<tensorflow.python.keras.layers.core.Dense at 0x22bb49a7ef0>"
      ]
     },
     "execution_count": 4,
     "metadata": {},
     "output_type": "execute_result"
    }
   ],
   "source": [
    "#linear layer with l1 regularization\n",
    "keras.layers.Dense(64,kernel_regularizer=tf.keras.regularizers.l1(0.001))\n",
    "#linear layer with l2 regularization\n",
    "keras.layers.Dense(64,kernel_regularizer=tf.keras.regularizers.l2(0.01))\n",
    "#linear layer with bias=2.0\n",
    "keras.layers.Dense(64,bias_initializer=tf.keras.initializers.constant(2.0))"
   ]
  },
  {
   "cell_type": "code",
   "execution_count": 5,
   "metadata": {
    "colab": {
     "base_uri": "https://localhost:8080/",
     "height": 88
    },
    "colab_type": "code",
    "id": "BBmPf61YNdUG",
    "outputId": "79e2a035-31c4-4f43-e0c5-7bad971cb432"
   },
   "outputs": [
    {
     "name": "stdout",
     "output_type": "stream",
     "text": [
      "WARNING:tensorflow:From C:\\Users\\User\\Anaconda3\\envs\\tensorflow\\lib\\site-packages\\tensorflow\\python\\ops\\resource_variable_ops.py:435: colocate_with (from tensorflow.python.framework.ops) is deprecated and will be removed in a future version.\n",
      "Instructions for updating:\n",
      "Colocations handled automatically by placer.\n"
     ]
    }
   ],
   "source": [
    "model = tf.keras.Sequential([\n",
    "    keras.layers.Dense(64, activation='relu', input_shape=(32,)),\n",
    "    keras.layers.Dense(64, activation='relu'),\n",
    "    keras.layers.Dense(10, activation='softmax')])\n",
    "model.compile(optimizer=tf.train.AdamOptimizer(0.001),\n",
    "              loss='categorical_crossentropy',\n",
    "              metrics=['accuracy'])"
   ]
  },
  {
   "cell_type": "code",
   "execution_count": 6,
   "metadata": {
    "colab": {
     "base_uri": "https://localhost:8080/",
     "height": 238
    },
    "colab_type": "code",
    "id": "4M5y3ok6NdUI",
    "outputId": "05c63d01-b4b1-4958-9735-b7e9be9e9031"
   },
   "outputs": [
    {
     "name": "stdout",
     "output_type": "stream",
     "text": [
      "_________________________________________________________________\n",
      "Layer (type)                 Output Shape              Param #   \n",
      "=================================================================\n",
      "dense_6 (Dense)              (None, 64)                2112      \n",
      "_________________________________________________________________\n",
      "dense_7 (Dense)              (None, 64)                4160      \n",
      "_________________________________________________________________\n",
      "dense_8 (Dense)              (None, 10)                650       \n",
      "=================================================================\n",
      "Total params: 6,922\n",
      "Trainable params: 6,922\n",
      "Non-trainable params: 0\n",
      "_________________________________________________________________\n"
     ]
    }
   ],
   "source": [
    "model.summary()"
   ]
  },
  {
   "cell_type": "code",
   "execution_count": 7,
   "metadata": {
    "colab": {
     "base_uri": "https://localhost:8080/",
     "height": 88
    },
    "colab_type": "code",
    "id": "9GYq_IJvNdUL",
    "outputId": "ca71448d-5ab7-4181-c006-e2d80cf5e71c"
   },
   "outputs": [
    {
     "name": "stdout",
     "output_type": "stream",
     "text": [
      "WARNING:tensorflow:From C:\\Users\\User\\Anaconda3\\envs\\tensorflow\\lib\\site-packages\\tensorflow\\python\\keras\\utils\\losses_utils.py:170: to_float (from tensorflow.python.ops.math_ops) is deprecated and will be removed in a future version.\n",
      "Instructions for updating:\n",
      "Use tf.cast instead.\n"
     ]
    }
   ],
   "source": [
    "# Configure a model for mean-squared error regression.\n",
    "model.compile(optimizer=tf.train.AdamOptimizer(0.01),\n",
    "              loss='mse',       # mean squared error\n",
    "              metrics=['mae'])  # mean absolute error\n",
    "\n",
    "# Configure a model for categorical classification.\n",
    "model.compile(optimizer=tf.train.RMSPropOptimizer(0.01),\n",
    "              loss=tf.keras.losses.categorical_crossentropy,\n",
    "              metrics=[tf.keras.metrics.categorical_accuracy])"
   ]
  },
  {
   "cell_type": "markdown",
   "metadata": {
    "colab_type": "text",
    "id": "G7zvXEqLNdUN"
   },
   "source": [
    "For small datasets, use in-memory NumPy arrays to train and evaluate a model"
   ]
  },
  {
   "cell_type": "code",
   "execution_count": 8,
   "metadata": {
    "colab": {
     "base_uri": "https://localhost:8080/",
     "height": 445
    },
    "colab_type": "code",
    "id": "qWvB7l7JNdUO",
    "outputId": "3673cea8-8e5f-409a-b176-20902d8cfe4c",
    "scrolled": true
   },
   "outputs": [
    {
     "name": "stdout",
     "output_type": "stream",
     "text": [
      "WARNING:tensorflow:From C:\\Users\\User\\Anaconda3\\envs\\tensorflow\\lib\\site-packages\\tensorflow\\python\\ops\\math_ops.py:3066: to_int32 (from tensorflow.python.ops.math_ops) is deprecated and will be removed in a future version.\n",
      "Instructions for updating:\n",
      "Use tf.cast instead.\n",
      "Epoch 1/10\n",
      "1000/1000 [==============================] - 2s 2ms/sample - loss: 11.6337 - categorical_accuracy: 0.1110\n",
      "Epoch 2/10\n",
      "1000/1000 [==============================] - 0s 137us/sample - loss: 11.6046 - categorical_accuracy: 0.1080\n",
      "Epoch 3/10\n",
      "1000/1000 [==============================] - 0s 150us/sample - loss: 11.5944 - categorical_accuracy: 0.1130\n",
      "Epoch 4/10\n",
      "1000/1000 [==============================] - 0s 140us/sample - loss: 11.5883 - categorical_accuracy: 0.1190\n",
      "Epoch 5/10\n",
      "1000/1000 [==============================] - 0s 148us/sample - loss: 11.5882 - categorical_accuracy: 0.1060\n",
      "Epoch 6/10\n",
      "1000/1000 [==============================] - 0s 137us/sample - loss: 11.5881 - categorical_accuracy: 0.1000\n",
      "Epoch 7/10\n",
      "1000/1000 [==============================] - 0s 132us/sample - loss: 11.5856 - categorical_accuracy: 0.1090\n",
      "Epoch 8/10\n",
      "1000/1000 [==============================] - 0s 139us/sample - loss: 11.5833 - categorical_accuracy: 0.1050\n",
      "Epoch 9/10\n",
      "1000/1000 [==============================] - 0s 152us/sample - loss: 11.5814 - categorical_accuracy: 0.1180\n",
      "Epoch 10/10\n",
      "1000/1000 [==============================] - 0s 137us/sample - loss: 11.5780 - categorical_accuracy: 0.1170\n"
     ]
    },
    {
     "data": {
      "text/plain": [
       "<tensorflow.python.keras.callbacks.History at 0x22bb0e53b38>"
      ]
     },
     "execution_count": 8,
     "metadata": {},
     "output_type": "execute_result"
    }
   ],
   "source": [
    "import numpy as np\n",
    "\n",
    "data = np.random.random((1000, 32))\n",
    "labels = np.random.random((1000, 10))\n",
    "\n",
    "model.fit(data, labels, epochs=10, batch_size=32)"
   ]
  },
  {
   "cell_type": "code",
   "execution_count": 9,
   "metadata": {
    "colab": {
     "base_uri": "https://localhost:8080/",
     "height": 411
    },
    "colab_type": "code",
    "id": "Z5MF7qTXNdUQ",
    "outputId": "82aeac0e-efec-4df5-cf8a-e2b4c0b8cb0b",
    "scrolled": true
   },
   "outputs": [
    {
     "name": "stdout",
     "output_type": "stream",
     "text": [
      "Train on 1000 samples, validate on 100 samples\n",
      "Epoch 1/10\n",
      "1000/1000 [==============================] - 0s 246us/sample - loss: 11.5725 - categorical_accuracy: 0.1160 - val_loss: 11.5848 - val_categorical_accuracy: 0.1000\n",
      "Epoch 2/10\n",
      "1000/1000 [==============================] - 0s 156us/sample - loss: 11.5699 - categorical_accuracy: 0.1110 - val_loss: 11.5877 - val_categorical_accuracy: 0.1600\n",
      "Epoch 3/10\n",
      "1000/1000 [==============================] - 0s 144us/sample - loss: 11.5689 - categorical_accuracy: 0.1110 - val_loss: 11.5866 - val_categorical_accuracy: 0.0700\n",
      "Epoch 4/10\n",
      "1000/1000 [==============================] - 0s 157us/sample - loss: 11.5689 - categorical_accuracy: 0.1070 - val_loss: 11.6149 - val_categorical_accuracy: 0.1300\n",
      "Epoch 5/10\n",
      "1000/1000 [==============================] - 0s 155us/sample - loss: 11.5693 - categorical_accuracy: 0.0980 - val_loss: 11.5831 - val_categorical_accuracy: 0.0600\n",
      "Epoch 6/10\n",
      "1000/1000 [==============================] - 0s 156us/sample - loss: 11.5685 - categorical_accuracy: 0.0930 - val_loss: 11.5988 - val_categorical_accuracy: 0.1000\n",
      "Epoch 7/10\n",
      "1000/1000 [==============================] - 0s 156us/sample - loss: 11.5685 - categorical_accuracy: 0.1120 - val_loss: 11.5920 - val_categorical_accuracy: 0.1100\n",
      "Epoch 8/10\n",
      "1000/1000 [==============================] - 0s 159us/sample - loss: 11.5662 - categorical_accuracy: 0.1120 - val_loss: 11.5950 - val_categorical_accuracy: 0.1300\n",
      "Epoch 9/10\n",
      "1000/1000 [==============================] - 0s 144us/sample - loss: 11.5633 - categorical_accuracy: 0.1030 - val_loss: 11.6205 - val_categorical_accuracy: 0.0700\n",
      "Epoch 10/10\n",
      "1000/1000 [==============================] - 0s 179us/sample - loss: 11.5630 - categorical_accuracy: 0.1320 - val_loss: 11.6053 - val_categorical_accuracy: 0.0600\n"
     ]
    },
    {
     "data": {
      "text/plain": [
       "<tensorflow.python.keras.callbacks.History at 0x22b8010dfd0>"
      ]
     },
     "execution_count": 9,
     "metadata": {},
     "output_type": "execute_result"
    }
   ],
   "source": [
    "import numpy as np\n",
    "\n",
    "data = np.random.random((1000, 32))\n",
    "labels = np.random.random((1000, 10))\n",
    "\n",
    "val_data = np.random.random((100, 32))\n",
    "val_labels = np.random.random((100, 10))\n",
    "\n",
    "model.fit(data, labels, epochs=10, batch_size=32,\n",
    "          validation_data=(val_data, val_labels))"
   ]
  },
  {
   "cell_type": "markdown",
   "metadata": {
    "colab_type": "text",
    "id": "jTCm0otGNdUT"
   },
   "source": [
    "Use the Datasets API to scale to large datasets or multi-device training. Pass a tf.data.Dataset instance to the fit method:"
   ]
  },
  {
   "cell_type": "code",
   "execution_count": 10,
   "metadata": {
    "colab": {
     "base_uri": "https://localhost:8080/",
     "height": 374
    },
    "colab_type": "code",
    "id": "HGJyWHO3NdUT",
    "outputId": "83179df3-c5f4-4dbd-9e1f-31e91e1c3077"
   },
   "outputs": [
    {
     "name": "stdout",
     "output_type": "stream",
     "text": [
      "Epoch 1/10\n",
      "30/30 [==============================] - ETA: 0s - loss: 11.5484 - categorical_accuracy: 0.131 - 0s 14ms/step - loss: 11.5616 - categorical_accuracy: 0.1312\n",
      "Epoch 2/10\n",
      "30/30 [==============================] - 0s 6ms/step - loss: 11.5429 - categorical_accuracy: 0.1325\n",
      "Epoch 3/10\n",
      "30/30 [==============================] - 0s 5ms/step - loss: 11.5498 - categorical_accuracy: 0.1517\n",
      "Epoch 4/10\n",
      "30/30 [==============================] - 0s 5ms/step - loss: 11.5246 - categorical_accuracy: 0.1400\n",
      "Epoch 5/10\n",
      "30/30 [==============================] - 0s 5ms/step - loss: 11.5634 - categorical_accuracy: 0.1645\n",
      "Epoch 6/10\n",
      "30/30 [==============================] - 0s 6ms/step - loss: 11.5231 - categorical_accuracy: 0.1709\n",
      "Epoch 7/10\n",
      "30/30 [==============================] - 0s 5ms/step - loss: 11.5780 - categorical_accuracy: 0.1667\n",
      "Epoch 8/10\n",
      "30/30 [==============================] - 0s 5ms/step - loss: 11.5435 - categorical_accuracy: 0.1816\n",
      "Epoch 9/10\n",
      "30/30 [==============================] - 0s 5ms/step - loss: 11.5438 - categorical_accuracy: 0.1838\n",
      "Epoch 10/10\n",
      "30/30 [==============================] - 0s 5ms/step - loss: 11.5131 - categorical_accuracy: 0.1891\n"
     ]
    },
    {
     "data": {
      "text/plain": [
       "<tensorflow.python.keras.callbacks.History at 0x22bace1f630>"
      ]
     },
     "execution_count": 10,
     "metadata": {},
     "output_type": "execute_result"
    }
   ],
   "source": [
    "dataset=tf.data.Dataset.from_tensor_slices((data,labels))\n",
    "dataset=dataset.batch(32)\n",
    "dataset=dataset.repeat()\n",
    "model.fit(dataset,epochs=10,steps_per_epoch=30)"
   ]
  },
  {
   "cell_type": "markdown",
   "metadata": {
    "colab_type": "text",
    "id": "q8atiVAYNdUW"
   },
   "source": [
    "Here, the fit method uses the steps_per_epoch argument—this is the number of training steps the model runs before it moves to the next epoch. \n",
    "\n",
    "Since the Dataset yields batches of data, this snippet does not require a batch_size."
   ]
  },
  {
   "cell_type": "code",
   "execution_count": 11,
   "metadata": {
    "colab": {
     "base_uri": "https://localhost:8080/",
     "height": 374
    },
    "colab_type": "code",
    "id": "GP1pA-Z2NdUX",
    "outputId": "d559f492-ab92-4826-d006-2d481f882faa",
    "scrolled": true
   },
   "outputs": [
    {
     "name": "stdout",
     "output_type": "stream",
     "text": [
      "Epoch 1/10\n",
      "30/30 [==============================] - 0s 15ms/step - loss: 11.5252 - categorical_accuracy: 0.1708 - val_loss: 11.6643 - val_categorical_accuracy: 0.1146\n",
      "Epoch 2/10\n",
      "30/30 [==============================] - 0s 6ms/step - loss: 11.5035 - categorical_accuracy: 0.1934 - val_loss: 11.4764 - val_categorical_accuracy: 0.1471\n",
      "Epoch 3/10\n",
      "30/30 [==============================] - 0s 6ms/step - loss: 11.5047 - categorical_accuracy: 0.1880 - val_loss: 11.6093 - val_categorical_accuracy: 0.0735\n",
      "Epoch 4/10\n",
      "30/30 [==============================] - 0s 6ms/step - loss: 11.4861 - categorical_accuracy: 0.1902 - val_loss: 11.5016 - val_categorical_accuracy: 0.0588\n",
      "Epoch 5/10\n",
      "30/30 [==============================] - 0s 6ms/step - loss: 11.5199 - categorical_accuracy: 0.2115 - val_loss: 11.6597 - val_categorical_accuracy: 0.1146\n",
      "Epoch 6/10\n",
      "30/30 [==============================] - 0s 7ms/step - loss: 11.4774 - categorical_accuracy: 0.1923 - val_loss: 11.5113 - val_categorical_accuracy: 0.1471\n",
      "Epoch 7/10\n",
      "30/30 [==============================] - 0s 6ms/step - loss: 11.5373 - categorical_accuracy: 0.1891 - val_loss: 11.6413 - val_categorical_accuracy: 0.1176\n",
      "Epoch 8/10\n",
      "30/30 [==============================] - 0s 6ms/step - loss: 11.5015 - categorical_accuracy: 0.2051 - val_loss: 11.4814 - val_categorical_accuracy: 0.0441\n",
      "Epoch 9/10\n",
      "30/30 [==============================] - 0s 5ms/step - loss: 11.5143 - categorical_accuracy: 0.1998 - val_loss: 11.6919 - val_categorical_accuracy: 0.0938\n",
      "Epoch 10/10\n",
      "30/30 [==============================] - 0s 5ms/step - loss: 11.4792 - categorical_accuracy: 0.2073 - val_loss: 11.5476 - val_categorical_accuracy: 0.1765\n"
     ]
    },
    {
     "data": {
      "text/plain": [
       "<tensorflow.python.keras.callbacks.History at 0x22ba0180fd0>"
      ]
     },
     "execution_count": 11,
     "metadata": {},
     "output_type": "execute_result"
    }
   ],
   "source": [
    "dataset=tf.data.Dataset.from_tensor_slices((data,labels))\n",
    "dataset=dataset.batch(32).repeat()\n",
    "\n",
    "val_dataset=tf.data.Dataset.from_tensor_slices((val_data,val_labels))\n",
    "val_dataset=val_dataset.batch(32).repeat()\n",
    "\n",
    "model.fit(dataset,epochs=10,steps_per_epoch=30,\n",
    "         validation_data=val_dataset,\n",
    "         validation_steps=3)"
   ]
  },
  {
   "cell_type": "code",
   "execution_count": null,
   "metadata": {
    "colab": {},
    "colab_type": "code",
    "id": "RNFl1J9PNdUc"
   },
   "outputs": [],
   "source": []
  }
 ],
 "metadata": {
  "colab": {
   "name": "Tensorflow Tutorial-6 Keras.ipynb",
   "provenance": [],
   "version": "0.3.2"
  },
  "kernelspec": {
   "display_name": "Python 3",
   "language": "python",
   "name": "python3"
  },
  "language_info": {
   "codemirror_mode": {
    "name": "ipython",
    "version": 3
   },
   "file_extension": ".py",
   "mimetype": "text/x-python",
   "name": "python",
   "nbconvert_exporter": "python",
   "pygments_lexer": "ipython3",
   "version": "3.6.8"
  }
 },
 "nbformat": 4,
 "nbformat_minor": 1
}
