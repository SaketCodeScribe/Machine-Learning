{
  "nbformat": 4,
  "nbformat_minor": 0,
  "metadata": {
    "colab": {
      "name": "Tensorflow Tutorial-6 Keras.ipynb",
      "version": "0.3.2",
      "provenance": []
    },
    "kernelspec": {
      "display_name": "Python 3",
      "language": "python",
      "name": "python3"
    }
  },
  "cells": [
    {
      "metadata": {
        "id": "t43oCc0yNdT3",
        "colab_type": "code",
        "colab": {}
      },
      "cell_type": "code",
      "source": [
        "#Required to save models in YAML format\n",
        "!pip install -q pyyaml "
      ],
      "execution_count": 0,
      "outputs": []
    },
    {
      "metadata": {
        "id": "I185kZpbNdT7",
        "colab_type": "code",
        "colab": {
          "base_uri": "https://localhost:8080/",
          "height": 51
        },
        "outputId": "c0382487-396e-41aa-d60d-5f3afdd73754"
      },
      "cell_type": "code",
      "source": [
        "from __future__ import absolute_import,division,print_function\n",
        "import tensorflow as tf\n",
        "from tensorflow import keras\n",
        "print(tf.__version__)\n",
        "print(tf.keras.__version__)"
      ],
      "execution_count": 2,
      "outputs": [
        {
          "output_type": "stream",
          "text": [
            "1.13.1\n",
            "2.2.4-tf\n"
          ],
          "name": "stdout"
        }
      ]
    },
    {
      "metadata": {
        "id": "-_Cr0S6VNdUA",
        "colab_type": "code",
        "colab": {}
      },
      "cell_type": "code",
      "source": [
        "model=keras.Sequential([\n",
        "    keras.layers.Dense(64,activation=tf.nn.relu),\n",
        "    keras.layers.Dense(64,activation=tf.nn.relu),\n",
        "    keras.layers.Dense(10,activation=tf.nn.softmax)\n",
        "])"
      ],
      "execution_count": 0,
      "outputs": []
    },
    {
      "metadata": {
        "id": "MX35WoGqNdUD",
        "colab_type": "text"
      },
      "cell_type": "markdown",
      "source": [
        "Configure the layers:\n",
        "\n",
        "There are many tf.keras.layers available with some common constructor parameters:\n",
        "\n",
        "activation: Set the activation function for the layer. This parameter is specified by the name of a built-in function or as a callable object. By default, no activation is applied.\n",
        "\n",
        "kernel_initializer and bias_initializer: The initialization schemes that create the layer's weights (kernel and bias). This \n",
        "parameter is a name or a callable object. This defaults to the \"Glorot uniform\" initializer.\n",
        "\n",
        "kernel_regularizer and bias_regularizer: The regularization schemes that apply the layer's weights (kernel and bias), such as L1 or L2 regularization. By default, no regularization is applied.\n"
      ]
    },
    {
      "metadata": {
        "id": "-NQ655ryNdUE",
        "colab_type": "code",
        "colab": {
          "base_uri": "https://localhost:8080/",
          "height": 34
        },
        "outputId": "2f51581e-e5df-4dc7-88f6-81ad6471bd97"
      },
      "cell_type": "code",
      "source": [
        "#linear layer with l1 regularization\n",
        "keras.layers.Dense(64,kernel_regularizer=tf.keras.regularizers.l1(0.001))\n",
        "#linear layer with l2 regularization\n",
        "keras.layers.Dense(64,kernel_regularizer=tf.keras.regularizers.l2(0.01))\n",
        "#linear layer with bias=2.0\n",
        "keras.layers.Dense(64,bias_initializer=tf.keras.initializers.constant(2.0))"
      ],
      "execution_count": 5,
      "outputs": [
        {
          "output_type": "execute_result",
          "data": {
            "text/plain": [
              "<tensorflow.python.keras.layers.core.Dense at 0x7f89d6d16748>"
            ]
          },
          "metadata": {
            "tags": []
          },
          "execution_count": 5
        }
      ]
    },
    {
      "metadata": {
        "id": "BBmPf61YNdUG",
        "colab_type": "code",
        "colab": {
          "base_uri": "https://localhost:8080/",
          "height": 88
        },
        "outputId": "79e2a035-31c4-4f43-e0c5-7bad971cb432"
      },
      "cell_type": "code",
      "source": [
        "model = tf.keras.Sequential([\n",
        "    keras.layers.Dense(64, activation='relu', input_shape=(32,)),\n",
        "    keras.layers.Dense(64, activation='relu'),\n",
        "    keras.layers.Dense(10, activation='softmax')])\n",
        "model.compile(optimizer=tf.train.AdamOptimizer(0.001),\n",
        "              loss='categorical_crossentropy',\n",
        "              metrics=['accuracy'])"
      ],
      "execution_count": 6,
      "outputs": [
        {
          "output_type": "stream",
          "text": [
            "WARNING:tensorflow:From /usr/local/lib/python3.6/dist-packages/tensorflow/python/ops/resource_variable_ops.py:435: colocate_with (from tensorflow.python.framework.ops) is deprecated and will be removed in a future version.\n",
            "Instructions for updating:\n",
            "Colocations handled automatically by placer.\n"
          ],
          "name": "stdout"
        }
      ]
    },
    {
      "metadata": {
        "id": "4M5y3ok6NdUI",
        "colab_type": "code",
        "colab": {
          "base_uri": "https://localhost:8080/",
          "height": 238
        },
        "outputId": "05c63d01-b4b1-4958-9735-b7e9be9e9031"
      },
      "cell_type": "code",
      "source": [
        "model.summary()"
      ],
      "execution_count": 7,
      "outputs": [
        {
          "output_type": "stream",
          "text": [
            "_________________________________________________________________\n",
            "Layer (type)                 Output Shape              Param #   \n",
            "=================================================================\n",
            "dense_6 (Dense)              (None, 64)                2112      \n",
            "_________________________________________________________________\n",
            "dense_7 (Dense)              (None, 64)                4160      \n",
            "_________________________________________________________________\n",
            "dense_8 (Dense)              (None, 10)                650       \n",
            "=================================================================\n",
            "Total params: 6,922\n",
            "Trainable params: 6,922\n",
            "Non-trainable params: 0\n",
            "_________________________________________________________________\n"
          ],
          "name": "stdout"
        }
      ]
    },
    {
      "metadata": {
        "id": "9GYq_IJvNdUL",
        "colab_type": "code",
        "colab": {
          "base_uri": "https://localhost:8080/",
          "height": 88
        },
        "outputId": "ca71448d-5ab7-4181-c006-e2d80cf5e71c"
      },
      "cell_type": "code",
      "source": [
        "# Configure a model for mean-squared error regression.\n",
        "model.compile(optimizer=tf.train.AdamOptimizer(0.01),\n",
        "              loss='mse',       # mean squared error\n",
        "              metrics=['mae'])  # mean absolute error\n",
        "\n",
        "# Configure a model for categorical classification.\n",
        "model.compile(optimizer=tf.train.RMSPropOptimizer(0.01),\n",
        "              loss=tf.keras.losses.categorical_crossentropy,\n",
        "              metrics=[tf.keras.metrics.categorical_accuracy])"
      ],
      "execution_count": 8,
      "outputs": [
        {
          "output_type": "stream",
          "text": [
            "WARNING:tensorflow:From /usr/local/lib/python3.6/dist-packages/tensorflow/python/keras/utils/losses_utils.py:170: to_float (from tensorflow.python.ops.math_ops) is deprecated and will be removed in a future version.\n",
            "Instructions for updating:\n",
            "Use tf.cast instead.\n"
          ],
          "name": "stdout"
        }
      ]
    },
    {
      "metadata": {
        "id": "G7zvXEqLNdUN",
        "colab_type": "text"
      },
      "cell_type": "markdown",
      "source": [
        "For small datasets, use in-memory NumPy arrays to train and evaluate a model"
      ]
    },
    {
      "metadata": {
        "scrolled": true,
        "id": "qWvB7l7JNdUO",
        "colab_type": "code",
        "colab": {
          "base_uri": "https://localhost:8080/",
          "height": 445
        },
        "outputId": "3673cea8-8e5f-409a-b176-20902d8cfe4c"
      },
      "cell_type": "code",
      "source": [
        "import numpy as np\n",
        "\n",
        "data = np.random.random((1000, 32))\n",
        "labels = np.random.random((1000, 10))\n",
        "\n",
        "model.fit(data, labels, epochs=10, batch_size=32)"
      ],
      "execution_count": 9,
      "outputs": [
        {
          "output_type": "stream",
          "text": [
            "WARNING:tensorflow:From /usr/local/lib/python3.6/dist-packages/tensorflow/python/ops/math_ops.py:3066: to_int32 (from tensorflow.python.ops.math_ops) is deprecated and will be removed in a future version.\n",
            "Instructions for updating:\n",
            "Use tf.cast instead.\n",
            "Epoch 1/10\n",
            "1000/1000 [==============================] - 0s 145us/sample - loss: 11.6009 - categorical_accuracy: 0.1020\n",
            "Epoch 2/10\n",
            "1000/1000 [==============================] - 0s 66us/sample - loss: 11.5787 - categorical_accuracy: 0.1050\n",
            "Epoch 3/10\n",
            "1000/1000 [==============================] - 0s 64us/sample - loss: 11.5669 - categorical_accuracy: 0.1000\n",
            "Epoch 4/10\n",
            "1000/1000 [==============================] - 0s 60us/sample - loss: 11.5622 - categorical_accuracy: 0.1090\n",
            "Epoch 5/10\n",
            "1000/1000 [==============================] - 0s 53us/sample - loss: 11.5624 - categorical_accuracy: 0.0940\n",
            "Epoch 6/10\n",
            "1000/1000 [==============================] - 0s 64us/sample - loss: 11.5584 - categorical_accuracy: 0.0970\n",
            "Epoch 7/10\n",
            "1000/1000 [==============================] - 0s 60us/sample - loss: 11.5585 - categorical_accuracy: 0.0940\n",
            "Epoch 8/10\n",
            "1000/1000 [==============================] - 0s 64us/sample - loss: 11.5575 - categorical_accuracy: 0.1200\n",
            "Epoch 9/10\n",
            "1000/1000 [==============================] - 0s 63us/sample - loss: 11.5533 - categorical_accuracy: 0.1160\n",
            "Epoch 10/10\n",
            "1000/1000 [==============================] - 0s 63us/sample - loss: 11.5498 - categorical_accuracy: 0.1220\n"
          ],
          "name": "stdout"
        },
        {
          "output_type": "execute_result",
          "data": {
            "text/plain": [
              "<tensorflow.python.keras.callbacks.History at 0x7f89d686a278>"
            ]
          },
          "metadata": {
            "tags": []
          },
          "execution_count": 9
        }
      ]
    },
    {
      "metadata": {
        "scrolled": true,
        "id": "Z5MF7qTXNdUQ",
        "colab_type": "code",
        "colab": {
          "base_uri": "https://localhost:8080/",
          "height": 411
        },
        "outputId": "82aeac0e-efec-4df5-cf8a-e2b4c0b8cb0b"
      },
      "cell_type": "code",
      "source": [
        "import numpy as np\n",
        "\n",
        "data = np.random.random((1000, 32))\n",
        "labels = np.random.random((1000, 10))\n",
        "\n",
        "val_data = np.random.random((100, 32))\n",
        "val_labels = np.random.random((100, 10))\n",
        "\n",
        "model.fit(data, labels, epochs=10, batch_size=32,\n",
        "          validation_data=(val_data, val_labels))"
      ],
      "execution_count": 10,
      "outputs": [
        {
          "output_type": "stream",
          "text": [
            "Train on 1000 samples, validate on 100 samples\n",
            "Epoch 1/10\n",
            "1000/1000 [==============================] - 0s 110us/sample - loss: 11.4800 - categorical_accuracy: 0.1110 - val_loss: 11.8045 - val_categorical_accuracy: 0.1100\n",
            "Epoch 2/10\n",
            "1000/1000 [==============================] - 0s 63us/sample - loss: 11.4764 - categorical_accuracy: 0.1090 - val_loss: 11.8290 - val_categorical_accuracy: 0.1100\n",
            "Epoch 3/10\n",
            "1000/1000 [==============================] - 0s 64us/sample - loss: 11.4772 - categorical_accuracy: 0.1080 - val_loss: 11.8078 - val_categorical_accuracy: 0.0700\n",
            "Epoch 4/10\n",
            "1000/1000 [==============================] - 0s 58us/sample - loss: 11.4753 - categorical_accuracy: 0.1050 - val_loss: 11.8099 - val_categorical_accuracy: 0.1000\n",
            "Epoch 5/10\n",
            "1000/1000 [==============================] - 0s 65us/sample - loss: 11.4740 - categorical_accuracy: 0.1200 - val_loss: 11.8109 - val_categorical_accuracy: 0.0600\n",
            "Epoch 6/10\n",
            "1000/1000 [==============================] - 0s 64us/sample - loss: 11.4731 - categorical_accuracy: 0.1180 - val_loss: 11.8161 - val_categorical_accuracy: 0.0700\n",
            "Epoch 7/10\n",
            "1000/1000 [==============================] - 0s 56us/sample - loss: 11.4698 - categorical_accuracy: 0.1270 - val_loss: 11.8260 - val_categorical_accuracy: 0.1000\n",
            "Epoch 8/10\n",
            "1000/1000 [==============================] - 0s 64us/sample - loss: 11.4691 - categorical_accuracy: 0.1190 - val_loss: 11.8177 - val_categorical_accuracy: 0.1200\n",
            "Epoch 9/10\n",
            "1000/1000 [==============================] - 0s 53us/sample - loss: 11.4662 - categorical_accuracy: 0.1270 - val_loss: 11.8475 - val_categorical_accuracy: 0.0900\n",
            "Epoch 10/10\n",
            "1000/1000 [==============================] - 0s 52us/sample - loss: 11.4611 - categorical_accuracy: 0.1310 - val_loss: 11.8585 - val_categorical_accuracy: 0.0900\n"
          ],
          "name": "stdout"
        },
        {
          "output_type": "execute_result",
          "data": {
            "text/plain": [
              "<tensorflow.python.keras.callbacks.History at 0x7f89d1dc9cf8>"
            ]
          },
          "metadata": {
            "tags": []
          },
          "execution_count": 10
        }
      ]
    },
    {
      "metadata": {
        "id": "jTCm0otGNdUT",
        "colab_type": "text"
      },
      "cell_type": "markdown",
      "source": [
        "Use the Datasets API to scale to large datasets or multi-device training. Pass a tf.data.Dataset instance to the fit method:"
      ]
    },
    {
      "metadata": {
        "id": "HGJyWHO3NdUT",
        "colab_type": "code",
        "colab": {
          "base_uri": "https://localhost:8080/",
          "height": 374
        },
        "outputId": "83179df3-c5f4-4dbd-9e1f-31e91e1c3077"
      },
      "cell_type": "code",
      "source": [
        "dataset=tf.data.Dataset.from_tensor_slices((data,labels))\n",
        "dataset=dataset.batch(32)\n",
        "dataset=dataset.repeat()\n",
        "model.fit(dataset,epochs=10,steps_per_epoch=30)"
      ],
      "execution_count": 11,
      "outputs": [
        {
          "output_type": "stream",
          "text": [
            "Epoch 1/10\n",
            "30/30 [==============================] - 0s 6ms/step - loss: 11.4452 - categorical_accuracy: 0.1271\n",
            "Epoch 2/10\n",
            "30/30 [==============================] - 0s 2ms/step - loss: 11.4929 - categorical_accuracy: 0.1250\n",
            "Epoch 3/10\n",
            "30/30 [==============================] - 0s 2ms/step - loss: 11.4747 - categorical_accuracy: 0.1207\n",
            "Epoch 4/10\n",
            "30/30 [==============================] - 0s 2ms/step - loss: 11.4697 - categorical_accuracy: 0.1400\n",
            "Epoch 5/10\n",
            "30/30 [==============================] - 0s 2ms/step - loss: 11.4673 - categorical_accuracy: 0.1517\n",
            "Epoch 6/10\n",
            "30/30 [==============================] - 0s 1ms/step - loss: 11.4620 - categorical_accuracy: 0.1603\n",
            "Epoch 7/10\n",
            "30/30 [==============================] - 0s 2ms/step - loss: 11.4558 - categorical_accuracy: 0.1688\n",
            "Epoch 8/10\n",
            "30/30 [==============================] - 0s 1ms/step - loss: 11.4472 - categorical_accuracy: 0.1592\n",
            "Epoch 9/10\n",
            "30/30 [==============================] - 0s 1ms/step - loss: 11.4425 - categorical_accuracy: 0.1774\n",
            "Epoch 10/10\n",
            "30/30 [==============================] - 0s 2ms/step - loss: 11.4326 - categorical_accuracy: 0.1741\n"
          ],
          "name": "stdout"
        },
        {
          "output_type": "execute_result",
          "data": {
            "text/plain": [
              "<tensorflow.python.keras.callbacks.History at 0x7f89d1dca828>"
            ]
          },
          "metadata": {
            "tags": []
          },
          "execution_count": 11
        }
      ]
    },
    {
      "metadata": {
        "id": "q8atiVAYNdUW",
        "colab_type": "text"
      },
      "cell_type": "markdown",
      "source": [
        "Here, the fit method uses the steps_per_epoch argument—this is the number of training steps the model runs before it moves to the next epoch. \n",
        "\n",
        "Since the Dataset yields batches of data, this snippet does not require a batch_size."
      ]
    },
    {
      "metadata": {
        "scrolled": true,
        "id": "GP1pA-Z2NdUX",
        "colab_type": "code",
        "colab": {
          "base_uri": "https://localhost:8080/",
          "height": 374
        },
        "outputId": "d559f492-ab92-4826-d006-2d481f882faa"
      },
      "cell_type": "code",
      "source": [
        "dataset=tf.data.Dataset.from_tensor_slices((data,labels))\n",
        "dataset=dataset.batch(32).repeat()\n",
        "\n",
        "val_dataset=tf.data.Dataset.from_tensor_slices((val_data,val_labels))\n",
        "val_dataset=val_dataset.batch(32).repeat()\n",
        "\n",
        "model.fit(dataset,epochs=10,steps_per_epoch=30,\n",
        "         validation_data=val_dataset,\n",
        "         validation_steps=3)"
      ],
      "execution_count": 14,
      "outputs": [
        {
          "output_type": "stream",
          "text": [
            "Epoch 1/10\n",
            "30/30 [==============================] - 0s 8ms/step - loss: 11.3978 - categorical_accuracy: 0.1656 - val_loss: 11.9150 - val_categorical_accuracy: 0.1667\n",
            "Epoch 2/10\n",
            "30/30 [==============================] - 0s 2ms/step - loss: 11.4395 - categorical_accuracy: 0.1656 - val_loss: 11.6128 - val_categorical_accuracy: 0.1029\n",
            "Epoch 3/10\n",
            "30/30 [==============================] - 0s 2ms/step - loss: 11.4194 - categorical_accuracy: 0.1795 - val_loss: 11.6772 - val_categorical_accuracy: 0.1324\n",
            "Epoch 4/10\n",
            "30/30 [==============================] - 0s 2ms/step - loss: 11.4197 - categorical_accuracy: 0.1784 - val_loss: 11.5507 - val_categorical_accuracy: 0.1324\n",
            "Epoch 5/10\n",
            "30/30 [==============================] - 0s 2ms/step - loss: 11.4122 - categorical_accuracy: 0.1976 - val_loss: 11.9912 - val_categorical_accuracy: 0.1146\n",
            "Epoch 6/10\n",
            "30/30 [==============================] - 0s 2ms/step - loss: 11.4169 - categorical_accuracy: 0.1848 - val_loss: 11.6550 - val_categorical_accuracy: 0.1029\n",
            "Epoch 7/10\n",
            "30/30 [==============================] - 0s 2ms/step - loss: 11.4078 - categorical_accuracy: 0.2105 - val_loss: 11.6442 - val_categorical_accuracy: 0.1471\n",
            "Epoch 8/10\n",
            "30/30 [==============================] - 0s 2ms/step - loss: 11.3991 - categorical_accuracy: 0.1976 - val_loss: 11.5925 - val_categorical_accuracy: 0.1176\n",
            "Epoch 9/10\n",
            "30/30 [==============================] - 0s 2ms/step - loss: 11.4008 - categorical_accuracy: 0.2062 - val_loss: 11.9685 - val_categorical_accuracy: 0.1250\n",
            "Epoch 10/10\n",
            "30/30 [==============================] - 0s 2ms/step - loss: 11.3860 - categorical_accuracy: 0.2115 - val_loss: 11.6475 - val_categorical_accuracy: 0.0588\n"
          ],
          "name": "stdout"
        },
        {
          "output_type": "execute_result",
          "data": {
            "text/plain": [
              "<tensorflow.python.keras.callbacks.History at 0x7f89d0d31588>"
            ]
          },
          "metadata": {
            "tags": []
          },
          "execution_count": 14
        }
      ]
    },
    {
      "metadata": {
        "id": "RNFl1J9PNdUc",
        "colab_type": "code",
        "colab": {}
      },
      "cell_type": "code",
      "source": [
        ""
      ],
      "execution_count": 0,
      "outputs": []
    }
  ]
}