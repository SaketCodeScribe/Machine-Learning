{
 "cells": [
  {
   "cell_type": "code",
   "execution_count": 168,
   "metadata": {},
   "outputs": [],
   "source": [
    "#Principle Component Analysis\n",
    "import pandas as pd\n",
    "from sklearn.model_selection import train_test_split\n",
    "df_wine = pd.read_csv('https://archive.ics.uci.edu/ml/machine-learning-databases/wine/wine.data', header=None)\n",
    "X, y = df_wine.iloc[:,1:].values, df_wine.iloc[:,0].values\n",
    "X_train, X_test, y_train, y_test = train_test_split(X, y, test_size=0.3, random_state=0)"
   ]
  },
  {
   "cell_type": "code",
   "execution_count": 169,
   "metadata": {},
   "outputs": [],
   "source": [
    "from sklearn.preprocessing import StandardScaler\n",
    "sdc = StandardScaler()\n",
    "sdc.fit(X_train)\n",
    "X_trainstd = sdc.transform(X_train)\n",
    "X_teststd = sdc.transform(X_test)"
   ]
  },
  {
   "cell_type": "code",
   "execution_count": 170,
   "metadata": {},
   "outputs": [
    {
     "name": "stdout",
     "output_type": "stream",
     "text": [
      "(13, 13)\n",
      "(13,)\n",
      "(13, 13)\n"
     ]
    }
   ],
   "source": [
    "import numpy as np\n",
    "cov_mat = np.cov(X_trainstd.T)\n",
    "eigen_val, eigen_vec = np.linalg.eig(cov_mat)\n",
    "print(cov_mat.shape)\n",
    "print(eigen_val.shape)\n",
    "print(eigen_vec.shape)"
   ]
  },
  {
   "cell_type": "code",
   "execution_count": 171,
   "metadata": {},
   "outputs": [
    {
     "data": {
      "image/png": "[encoded data removed]",
      "text/plain": [
       "<Figure size 432x288 with 1 Axes>"
      ]
     },
     "metadata": {},
     "output_type": "display_data"
    }
   ],
   "source": [
    "#to know how much each information is hold by each pc's\n",
    "import matplotlib.pyplot as plt\n",
    "var_ex = [(i/np.sum(eigen_val)*100)\n",
    "           for i in sorted(eigen_val, reverse=True)]\n",
    "plt.bar(range(1,14), var_ex, align='center', label='individual explained variance', alpha=0.5)\n",
    "plt.step(range(1,14), np.cumsum(var_ex), where=\"mid\", label='cumulative explained variance',alpha=0.5)\n",
    "plt.xlabel(\"pc\")\n",
    "plt.ylabel(\"Explained Variance Ratio\")\n",
    "plt.title(\"Variance Ratio vs pc\")\n",
    "plt.show()"
   ]
  },
  {
   "cell_type": "code",
   "execution_count": 175,
   "metadata": {},
   "outputs": [],
   "source": [
    "eigen_pair = [(np.abs(eigen_val[i]), eigen_vec[:,i])\n",
    "             for i in range(eigen_val.shape[0])]\n",
    "eigen_pair.sort(key=lambda k: k[0], reverse=True)"
   ]
  },
  {
   "cell_type": "code",
   "execution_count": 176,
   "metadata": {},
   "outputs": [
    {
     "data": {
      "text/plain": [
       "(2.466350315759231,\n",
       " array([ 0.50417079,  0.24216889,  0.28698484, -0.06468718,  0.22995385,\n",
       "         0.09363991,  0.01088622,  0.01870216,  0.03040352,  0.54527081,\n",
       "        -0.27924322, -0.174365  ,  0.36315461]))"
      ]
     },
     "execution_count": 176,
     "metadata": {},
     "output_type": "execute_result"
    }
   ],
   "source": [
    "eigen_pair[1]"
   ]
  },
  {
   "cell_type": "code",
   "execution_count": 177,
   "metadata": {},
   "outputs": [],
   "source": [
    "w = np.hstack((eigen_pair[0][1][:,np.newaxis],eigen_pair[1][1][:,np.newaxis]))"
   ]
  },
  {
   "cell_type": "code",
   "execution_count": 178,
   "metadata": {},
   "outputs": [
    {
     "data": {
      "text/plain": [
       "array([[ 0.14669811,  0.50417079],\n",
       "       [-0.24224554,  0.24216889],\n",
       "       [-0.02993442,  0.28698484],\n",
       "       [-0.25519002, -0.06468718],\n",
       "       [ 0.12079772,  0.22995385],\n",
       "       [ 0.38934455,  0.09363991],\n",
       "       [ 0.42326486,  0.01088622],\n",
       "       [-0.30634956,  0.01870216],\n",
       "       [ 0.30572219,  0.03040352],\n",
       "       [-0.09869191,  0.54527081],\n",
       "       [ 0.30032535, -0.27924322],\n",
       "       [ 0.36821154, -0.174365  ],\n",
       "       [ 0.29259713,  0.36315461]])"
      ]
     },
     "execution_count": 178,
     "metadata": {},
     "output_type": "execute_result"
    }
   ],
   "source": [
    " w"
   ]
  },
  {
   "cell_type": "code",
   "execution_count": 179,
   "metadata": {},
   "outputs": [],
   "source": [
    "X_train_pca = X_trainstd.dot(w)"
   ]
  },
  {
   "cell_type": "code",
   "execution_count": 180,
   "metadata": {},
   "outputs": [
    {
     "data": {
      "image/png": "[encoded data removed]",
      "text/plain": [
       "<Figure size 432x288 with 1 Axes>"
      ]
     },
     "metadata": {},
     "output_type": "display_data"
    }
   ],
   "source": [
    "c1=['red','blue','green']\n",
    "m1=['s','x','o']\n",
    "for i,j,k in zip(np.unique(y_train), c1, m1):\n",
    "    plt.scatter(X_train_pca[y_train==i,0], X_train_pca[y_train==i,1], label=i, c=j, marker=k)\n",
    "plt.xlabel(\"PC1\")\n",
    "plt.ylabel(\"PC2\")\n",
    "plt.title(\"Principle Component Analysis (pc1, pc2 becomes the new feature)\")\n",
    "plt.legend(loc='best')\n",
    "plt.show()"
   ]
  },
  {
   "cell_type": "code",
   "execution_count": 263,
   "metadata": {},
   "outputs": [],
   "source": [
    "from matplotlib.colors import ListedColormap\n",
    "def plt_decision_regions(X, y, classifier, resolution=0.02):\n",
    "    colors = [\"red\", \"blue\", \"lightgreen\", \"gray\", \"cyan\"]\n",
    "    markers = [\"s\", \"x\", \"o\"]\n",
    "    cmap = ListedColormap(colors[:len(np.unique(y))])\n",
    "    x1min, x1max = X[:,0].min()-2, X[:,0].max()+2\n",
    "    x2min, x2max = X[:,0].min()-2, X[:,0].max()+2\n",
    "    xx1, xx2 = np.meshgrid(np.arange(x1min, x1max, resolution),\n",
    "                          np.arange(x2min, x2max, resolution))\n",
    "   # plt.plot(xx1, xx2,marker='o')\n",
    "    z = classifier.predict(np.array([xx1.ravel(), xx2.ravel()]).T)\n",
    "    z = z.reshape(xx1.shape)\n",
    "    plt.contourf(xx1, xx2, z, alpha=0.2, cmap=cmap)\n",
    "   # print(xx1.shape)\n",
    "   # print(\"----------\")\n",
    "   # print(xx2)\n",
    "   # print(\"----------\")\n",
    "   # print(xx1.ravel())\n",
    "   # print(\"----------\")\n",
    "   # print(xx2.ravel())\n",
    "   # print(\"----------\")\n",
    "   # print(np.array([xx1.ravel(), xx2.ravel()]))\n",
    "    for cl,i in enumerate(np.unique(y)):\n",
    "        plt.scatter(X[y==i,0], X[y==i,1], alpha=0.5, c=cmap(cl), marker=markers[cl], label=i)"
   ]
  },
  {
   "cell_type": "code",
   "execution_count": 182,
   "metadata": {},
   "outputs": [
    {
     "name": "stdout",
     "output_type": "stream",
     "text": [
      "0.9814814814814815 0.967741935483871\n"
     ]
    },
    {
     "data": {
      "image/png": "[encoded data removed]",
      "text/plain": [
       "<Figure size 432x288 with 1 Axes>"
      ]
     },
     "metadata": {},
     "output_type": "display_data"
    },
    {
     "data": {
      "image/png": "[encoded data removed]",
      "text/plain": [
       "<Figure size 432x288 with 1 Axes>"
      ]
     },
     "metadata": {},
     "output_type": "display_data"
    }
   ],
   "source": [
    "from sklearn.linear_model import LogisticRegression\n",
    "from sklearn.decomposition import PCA\n",
    "pca = PCA(n_components=2)\n",
    "lr = LogisticRegression()\n",
    "X_trainpca = pca.fit_transform(X_trainstd)\n",
    "X_testpca = pca.transform(X_teststd)\n",
    "lr.fit(X_trainpca, y_train)\n",
    "print(lr.score(X_testpca, y_test),lr.score(X_trainpca,y_train))\n",
    "plt_decision_regions(X_trainpca, y_train, classifier=lr)\n",
    "plt.xlabel(\"PC1\")\n",
    "plt.ylabel(\"PC2\")\n",
    "plt.legend(loc=\"best\")\n",
    "plt.show()\n",
    "plt_decision_regions(X_testpca, y_test, classifier=lr)\n",
    "plt.xlabel(\"PC1\")\n",
    "plt.ylabel(\"PC2\")\n",
    "plt.legend(loc=\"best\")\n",
    "plt.show()"
   ]
  },
  {
   "cell_type": "code",
   "execution_count": 183,
   "metadata": {},
   "outputs": [
    {
     "name": "stdout",
     "output_type": "stream",
     "text": [
      "Scaled within-class scatter matrix: 13x13\n",
      "Between-class scatter matrix: 13x13\n"
     ]
    }
   ],
   "source": [
    "#Linear Discriminant Analysis\n",
    "y = np.unique(y_train)\n",
    "S_W = np.zeros((X_trainstd.shape[0], X_trainstd.shape[0]))\n",
    "mean_vec = []\n",
    "for i in y:\n",
    "    mean_vec.append(np.mean(X_trainstd[y_train==i,:], axis=0))\n",
    "d = 13 # number of features\n",
    "S_W = np.zeros((d, d))\n",
    "#print(mean_vec[0])\n",
    "for label,mv in zip(range(1, 4), mean_vec):\n",
    "    class_scatter = np.cov(X_trainstd[y_train==label].T) #to calculate cov use by this zip as you can see it is diff if we dont use by this\n",
    "    S_W += class_scatter\n",
    "print('Scaled within-class scatter matrix: %sx%s'% (S_W.shape[0], S_W.shape[1]))\n",
    "    #print(S_W)\n",
    "mean_overall = np.mean(X_trainstd, axis=0)\n",
    "S_B = np.zeros((d,d))\n",
    "for i in y:\n",
    "    n = X_trainstd[y_train==i].shape[0]\n",
    "    #print(mean_vec)\n",
    "    vec = mean_vec[i-1].reshape(d,1)\n",
    "    overall = mean_overall.reshape(d,1)\n",
    "    ss1 = n*(vec-overall).dot((vec-overall).T)\n",
    "    S_B+=ss1\n",
    "print('Between-class scatter matrix: %sx%s'% (S_B.shape[0], S_B.shape[1]))"
   ]
  },
  {
   "cell_type": "code",
   "execution_count": 184,
   "metadata": {},
   "outputs": [],
   "source": [
    "S_W1=np.zeros((d,d))\n",
    "for i in y:\n",
    "    class_scatter = np.cov(X_trainstd[y_train==label].T)\n",
    "    S_W1 += class_scatter\n",
    "#S_W1==S_W"
   ]
  },
  {
   "cell_type": "code",
   "execution_count": 192,
   "metadata": {},
   "outputs": [],
   "source": [
    "eigen_val, eigen_vec = np.linalg.eig(np.linalg.inv(S_W).dot(S_B))\n",
    "eigen_pairs = [(np.abs(eigen_val[i].real), eigen_vec[:,i])\n",
    "             for i in range(eigen_val.shape[0])]\n",
    "eigen_pairs.sort(key=lambda k: k[0], reverse=True)"
   ]
  },
  {
   "cell_type": "code",
   "execution_count": 207,
   "metadata": {},
   "outputs": [
    {
     "data": {
      "image/png": "[encoded data removed]",
      "text/plain": [
       "<Figure size 432x288 with 1 Axes>"
      ]
     },
     "metadata": {},
     "output_type": "display_data"
    }
   ],
   "source": [
    "tot = sum(eigen_val.real)\n",
    "discr = [(i/tot) for i in sorted(eigen_val.real, reverse=True)]\n",
    "plt.bar(range(1,14), discr, alpha=0.5, align='center', label='individual \"discriminability\"')\n",
    "plt.step(range(1,14), np.cumsum(discr), alpha=0.5, where='mid', label='cumulative \"discriminability\"')\n",
    "plt.hlines(y=0, xmin=0, xmax=14, linestyles='dotted')\n",
    "plt.xlabel('LDA1')\n",
    "plt.ylabel('LDA2')\n",
    "plt.ylim([-0.1, 1.1])\n",
    "plt.legend(loc='best')\n",
    "plt.show()"
   ]
  },
  {
   "cell_type": "code",
   "execution_count": 215,
   "metadata": {},
   "outputs": [],
   "source": [
    "w = np.hstack((eigen_pairs[0][1][:, np.newaxis].real, \n",
    "               eigen_pairs[1][1][:, np.newaxis].real))\n",
    "W = np.array([eigen_pairs[0][1].real, eigen_pairs[1][1].real]).T"
   ]
  },
  {
   "cell_type": "code",
   "execution_count": 218,
   "metadata": {},
   "outputs": [
    {
     "data": {
      "text/plain": [
       "array([[-0.06615877, -0.37974125],\n",
       "       [ 0.03862056, -0.22064303],\n",
       "       [-0.0217454 , -0.3816223 ],\n",
       "       [ 0.18400808,  0.30175689],\n",
       "       [-0.00343355,  0.01414971],\n",
       "       [ 0.23263171,  0.02337798],\n",
       "       [-0.77466862,  0.18689504],\n",
       "       [-0.08114771,  0.06961935],\n",
       "       [ 0.08750287,  0.17958558],\n",
       "       [ 0.18500646, -0.28397654],\n",
       "       [-0.06595992,  0.23490757],\n",
       "       [-0.38052382,  0.07295849],\n",
       "       [-0.32854326, -0.59707531]])"
      ]
     },
     "execution_count": 218,
     "metadata": {},
     "output_type": "execute_result"
    }
   ],
   "source": [
    "w"
   ]
  },
  {
   "cell_type": "code",
   "execution_count": 219,
   "metadata": {},
   "outputs": [
    {
     "data": {
      "text/plain": [
       "array([[-0.06615877, -0.37974125],\n",
       "       [ 0.03862056, -0.22064303],\n",
       "       [-0.0217454 , -0.3816223 ],\n",
       "       [ 0.18400808,  0.30175689],\n",
       "       [-0.00343355,  0.01414971],\n",
       "       [ 0.23263171,  0.02337798],\n",
       "       [-0.77466862,  0.18689504],\n",
       "       [-0.08114771,  0.06961935],\n",
       "       [ 0.08750287,  0.17958558],\n",
       "       [ 0.18500646, -0.28397654],\n",
       "       [-0.06595992,  0.23490757],\n",
       "       [-0.38052382,  0.07295849],\n",
       "       [-0.32854326, -0.59707531]])"
      ]
     },
     "execution_count": 219,
     "metadata": {},
     "output_type": "execute_result"
    }
   ],
   "source": [
    "W"
   ]
  },
  {
   "cell_type": "code",
   "execution_count": 221,
   "metadata": {},
   "outputs": [],
   "source": [
    "X_trainlda = X_trainstd.dot(W)\n",
    "x_trainlda = X_trainstd.dot(w)"
   ]
  },
  {
   "cell_type": "code",
   "execution_count": 222,
   "metadata": {},
   "outputs": [
    {
     "data": {
      "text/plain": [
       "array([[-1.92942894e+00, -4.45088883e-01],\n",
       "       [ 1.57807512e-01,  2.35263187e+00],\n",
       "       [ 1.71629527e+00, -1.89155492e+00],\n",
       "       [ 1.28405614e+00, -7.42896176e-01],\n",
       "       [-3.18775399e-01,  1.27757029e+00],\n",
       "       [ 1.27250409e+00, -4.08881854e-01],\n",
       "       [ 1.85236273e+00, -1.42233426e+00],\n",
       "       [-1.02210223e+00, -8.52169436e-01],\n",
       "       [ 6.88039360e-01,  3.19256499e-01],\n",
       "       [ 1.48032326e+00, -1.84708930e-02],\n",
       "       [-3.36464162e-01,  2.01853186e+00],\n",
       "       [ 6.77346281e-01,  3.65479315e-01],\n",
       "       [ 1.16249806e+00, -9.77388857e-01],\n",
       "       [-1.29307372e-01,  6.74127814e-01],\n",
       "       [-1.40601187e+00, -7.93733181e-01],\n",
       "       [ 8.97318514e-01,  1.33506214e+00],\n",
       "       [-3.52022450e-01,  1.32801757e+00],\n",
       "       [ 9.30409494e-01,  4.30103340e-01],\n",
       "       [-5.59207624e-01, -2.57885953e-01],\n",
       "       [-1.91287339e+00, -1.30836148e+00],\n",
       "       [-7.77419710e-01,  1.33152423e+00],\n",
       "       [-6.46820433e-01,  1.15051022e+00],\n",
       "       [ 1.93700879e+00, -8.84634720e-01],\n",
       "       [ 2.10316686e+00, -1.14421420e+00],\n",
       "       [ 4.34843003e-01,  2.32251697e+00],\n",
       "       [-4.02968101e-01,  1.88432073e+00],\n",
       "       [ 2.41216959e-02,  2.12661489e+00],\n",
       "       [ 1.80189396e+00, -1.53482300e+00],\n",
       "       [ 1.48046572e+00, -2.87125566e-01],\n",
       "       [-1.37187904e+00, -3.71683385e-01],\n",
       "       [ 1.85321901e+00, -1.31118029e+00],\n",
       "       [-1.12645732e-02,  1.73200911e+00],\n",
       "       [ 1.98225026e-01,  1.57897203e+00],\n",
       "       [ 1.80845995e-01,  1.15928656e+00],\n",
       "       [-3.55499100e-01,  1.63349299e+00],\n",
       "       [ 1.08681641e-01,  1.95066734e+00],\n",
       "       [-1.66615677e+00, -1.18335101e+00],\n",
       "       [-9.19810329e-01, -7.86272166e-01],\n",
       "       [-3.13517359e-01,  1.56871562e+00],\n",
       "       [-2.04703802e+00, -1.20953836e+00],\n",
       "       [ 1.52929135e+00, -8.61520672e-01],\n",
       "       [-1.25512745e+00, -3.23775753e-01],\n",
       "       [ 1.68323590e+00, -7.54381350e-01],\n",
       "       [-1.41848330e+00, -8.36095829e-02],\n",
       "       [-1.37945391e+00, -1.74607655e+00],\n",
       "       [-8.42750946e-02,  1.35322056e+00],\n",
       "       [-1.76956188e+00, -1.34247244e+00],\n",
       "       [-4.93184132e-01,  1.77685656e+00],\n",
       "       [ 5.53523488e-02,  1.70313398e+00],\n",
       "       [-1.69408229e+00, -2.30065641e+00],\n",
       "       [ 1.52913234e+00, -1.46172683e+00],\n",
       "       [ 1.75329239e-01,  1.20989043e+00],\n",
       "       [-1.73824065e+00, -1.84215543e+00],\n",
       "       [ 3.19864996e-01, -2.49469835e-01],\n",
       "       [ 3.72907579e-01,  1.77739181e+00],\n",
       "       [-1.80001444e-01,  1.14333573e+00],\n",
       "       [ 9.81093114e-01, -2.38438402e-01],\n",
       "       [-1.46467799e+00, -1.38951243e+00],\n",
       "       [ 1.83242412e+00, -3.83167555e-01],\n",
       "       [ 2.11354656e+00, -2.96010836e-01],\n",
       "       [-2.13782118e+00, -2.06872454e+00],\n",
       "       [-1.85338459e+00, -9.50854543e-01],\n",
       "       [ 5.04437555e-01,  1.51173847e+00],\n",
       "       [ 1.77199661e+00, -1.32777854e+00],\n",
       "       [-1.48842775e+00, -1.12703322e+00],\n",
       "       [-1.33339968e+00, -1.32446165e+00],\n",
       "       [-1.07864581e-02,  1.54294228e+00],\n",
       "       [-1.10256714e-01,  1.00441290e+00],\n",
       "       [-1.20197502e+00, -5.60303391e-02],\n",
       "       [-1.51585917e+00, -1.47712552e+00],\n",
       "       [-1.01266240e+00, -6.47815741e-01],\n",
       "       [ 1.53501673e+00, -2.10597971e+00],\n",
       "       [-3.56057938e-01,  7.91772351e-01],\n",
       "       [-1.72947279e+00, -7.10930678e-01],\n",
       "       [-5.75171889e-01,  1.27935445e+00],\n",
       "       [ 1.20391355e+00, -7.53739369e-01],\n",
       "       [-1.90635768e+00, -1.47279446e+00],\n",
       "       [-2.17283740e-01,  1.71693320e+00],\n",
       "       [ 1.45101595e+00, -2.23457749e-01],\n",
       "       [ 1.68561996e+00, -4.64978944e-02],\n",
       "       [-1.28954139e+00, -9.58367558e-01],\n",
       "       [-1.18698542e+00,  2.73781962e-02],\n",
       "       [ 1.47346936e+00, -4.51497787e-01],\n",
       "       [-1.39778586e+00, -1.85832184e+00],\n",
       "       [ 1.54912478e+00, -2.13957489e-01],\n",
       "       [ 4.01383409e-02,  2.21998752e+00],\n",
       "       [-1.10565876e+00, -9.29365290e-01],\n",
       "       [-1.36611537e+00, -5.60904741e-01],\n",
       "       [-1.60819716e-01,  1.59813069e+00],\n",
       "       [-1.54580365e+00, -1.44947925e+00],\n",
       "       [ 1.55960892e+00, -1.12523885e+00],\n",
       "       [ 3.60859409e-01,  1.78892928e+00],\n",
       "       [ 1.75072850e+00, -8.36759384e-01],\n",
       "       [-1.26239735e+00, -1.58360849e-01],\n",
       "       [ 1.28922799e+00, -7.21996708e-01],\n",
       "       [ 1.55244167e+00, -1.10136595e+00],\n",
       "       [ 1.68340262e+00, -1.40791500e+00],\n",
       "       [-1.16897942e+00, -6.48279549e-01],\n",
       "       [-5.42535732e-01,  2.35300306e+00],\n",
       "       [ 1.52995793e-01,  1.63162061e+00],\n",
       "       [-2.16909648e-01,  1.49487745e+00],\n",
       "       [-1.10319992e-01,  3.54977310e+00],\n",
       "       [ 1.83645893e+00, -1.23037317e+00],\n",
       "       [ 2.06481247e+00, -1.78980749e+00],\n",
       "       [ 2.02103179e-01,  8.96650596e-01],\n",
       "       [ 3.28230401e-01,  9.63463701e-01],\n",
       "       [-8.19277249e-01, -1.19416886e-01],\n",
       "       [-7.90352070e-01,  9.38212469e-01],\n",
       "       [ 1.67394349e+00, -1.33703520e+00],\n",
       "       [ 1.80722049e+00, -1.80674309e+00],\n",
       "       [-1.25824731e+00, -1.34013542e+00],\n",
       "       [-1.54046393e+00, -1.48572979e+00],\n",
       "       [ 1.05616125e+00, -7.63425405e-01],\n",
       "       [-1.68564320e-03,  1.10365236e+00],\n",
       "       [ 5.08522103e-01,  3.67308305e-01],\n",
       "       [ 6.63841842e-02,  1.92524024e+00],\n",
       "       [-1.05740439e+00, -9.86272666e-01],\n",
       "       [-7.51730898e-01, -4.05106347e-01],\n",
       "       [-1.47141113e+00, -8.39463446e-01],\n",
       "       [ 6.50450501e-01,  2.19627184e+00],\n",
       "       [-3.33853273e-01,  1.65373139e+00],\n",
       "       [-1.71555628e-02,  2.19372065e+00],\n",
       "       [-1.42744148e+00, -4.49544931e-01],\n",
       "       [ 1.63555254e+00, -1.87969483e+00]])"
      ]
     },
     "execution_count": 222,
     "metadata": {},
     "output_type": "execute_result"
    }
   ],
   "source": [
    "X_trainlda"
   ]
  },
  {
   "cell_type": "code",
   "execution_count": 223,
   "metadata": {},
   "outputs": [
    {
     "data": {
      "text/plain": [
       "array([[-1.92942894e+00, -4.45088883e-01],\n",
       "       [ 1.57807512e-01,  2.35263187e+00],\n",
       "       [ 1.71629527e+00, -1.89155492e+00],\n",
       "       [ 1.28405614e+00, -7.42896176e-01],\n",
       "       [-3.18775399e-01,  1.27757029e+00],\n",
       "       [ 1.27250409e+00, -4.08881854e-01],\n",
       "       [ 1.85236273e+00, -1.42233426e+00],\n",
       "       [-1.02210223e+00, -8.52169436e-01],\n",
       "       [ 6.88039360e-01,  3.19256499e-01],\n",
       "       [ 1.48032326e+00, -1.84708930e-02],\n",
       "       [-3.36464162e-01,  2.01853186e+00],\n",
       "       [ 6.77346281e-01,  3.65479315e-01],\n",
       "       [ 1.16249806e+00, -9.77388857e-01],\n",
       "       [-1.29307372e-01,  6.74127814e-01],\n",
       "       [-1.40601187e+00, -7.93733181e-01],\n",
       "       [ 8.97318514e-01,  1.33506214e+00],\n",
       "       [-3.52022450e-01,  1.32801757e+00],\n",
       "       [ 9.30409494e-01,  4.30103340e-01],\n",
       "       [-5.59207624e-01, -2.57885953e-01],\n",
       "       [-1.91287339e+00, -1.30836148e+00],\n",
       "       [-7.77419710e-01,  1.33152423e+00],\n",
       "       [-6.46820433e-01,  1.15051022e+00],\n",
       "       [ 1.93700879e+00, -8.84634720e-01],\n",
       "       [ 2.10316686e+00, -1.14421420e+00],\n",
       "       [ 4.34843003e-01,  2.32251697e+00],\n",
       "       [-4.02968101e-01,  1.88432073e+00],\n",
       "       [ 2.41216959e-02,  2.12661489e+00],\n",
       "       [ 1.80189396e+00, -1.53482300e+00],\n",
       "       [ 1.48046572e+00, -2.87125566e-01],\n",
       "       [-1.37187904e+00, -3.71683385e-01],\n",
       "       [ 1.85321901e+00, -1.31118029e+00],\n",
       "       [-1.12645732e-02,  1.73200911e+00],\n",
       "       [ 1.98225026e-01,  1.57897203e+00],\n",
       "       [ 1.80845995e-01,  1.15928656e+00],\n",
       "       [-3.55499100e-01,  1.63349299e+00],\n",
       "       [ 1.08681641e-01,  1.95066734e+00],\n",
       "       [-1.66615677e+00, -1.18335101e+00],\n",
       "       [-9.19810329e-01, -7.86272166e-01],\n",
       "       [-3.13517359e-01,  1.56871562e+00],\n",
       "       [-2.04703802e+00, -1.20953836e+00],\n",
       "       [ 1.52929135e+00, -8.61520672e-01],\n",
       "       [-1.25512745e+00, -3.23775753e-01],\n",
       "       [ 1.68323590e+00, -7.54381350e-01],\n",
       "       [-1.41848330e+00, -8.36095829e-02],\n",
       "       [-1.37945391e+00, -1.74607655e+00],\n",
       "       [-8.42750946e-02,  1.35322056e+00],\n",
       "       [-1.76956188e+00, -1.34247244e+00],\n",
       "       [-4.93184132e-01,  1.77685656e+00],\n",
       "       [ 5.53523488e-02,  1.70313398e+00],\n",
       "       [-1.69408229e+00, -2.30065641e+00],\n",
       "       [ 1.52913234e+00, -1.46172683e+00],\n",
       "       [ 1.75329239e-01,  1.20989043e+00],\n",
       "       [-1.73824065e+00, -1.84215543e+00],\n",
       "       [ 3.19864996e-01, -2.49469835e-01],\n",
       "       [ 3.72907579e-01,  1.77739181e+00],\n",
       "       [-1.80001444e-01,  1.14333573e+00],\n",
       "       [ 9.81093114e-01, -2.38438402e-01],\n",
       "       [-1.46467799e+00, -1.38951243e+00],\n",
       "       [ 1.83242412e+00, -3.83167555e-01],\n",
       "       [ 2.11354656e+00, -2.96010836e-01],\n",
       "       [-2.13782118e+00, -2.06872454e+00],\n",
       "       [-1.85338459e+00, -9.50854543e-01],\n",
       "       [ 5.04437555e-01,  1.51173847e+00],\n",
       "       [ 1.77199661e+00, -1.32777854e+00],\n",
       "       [-1.48842775e+00, -1.12703322e+00],\n",
       "       [-1.33339968e+00, -1.32446165e+00],\n",
       "       [-1.07864581e-02,  1.54294228e+00],\n",
       "       [-1.10256714e-01,  1.00441290e+00],\n",
       "       [-1.20197502e+00, -5.60303391e-02],\n",
       "       [-1.51585917e+00, -1.47712552e+00],\n",
       "       [-1.01266240e+00, -6.47815741e-01],\n",
       "       [ 1.53501673e+00, -2.10597971e+00],\n",
       "       [-3.56057938e-01,  7.91772351e-01],\n",
       "       [-1.72947279e+00, -7.10930678e-01],\n",
       "       [-5.75171889e-01,  1.27935445e+00],\n",
       "       [ 1.20391355e+00, -7.53739369e-01],\n",
       "       [-1.90635768e+00, -1.47279446e+00],\n",
       "       [-2.17283740e-01,  1.71693320e+00],\n",
       "       [ 1.45101595e+00, -2.23457749e-01],\n",
       "       [ 1.68561996e+00, -4.64978944e-02],\n",
       "       [-1.28954139e+00, -9.58367558e-01],\n",
       "       [-1.18698542e+00,  2.73781962e-02],\n",
       "       [ 1.47346936e+00, -4.51497787e-01],\n",
       "       [-1.39778586e+00, -1.85832184e+00],\n",
       "       [ 1.54912478e+00, -2.13957489e-01],\n",
       "       [ 4.01383409e-02,  2.21998752e+00],\n",
       "       [-1.10565876e+00, -9.29365290e-01],\n",
       "       [-1.36611537e+00, -5.60904741e-01],\n",
       "       [-1.60819716e-01,  1.59813069e+00],\n",
       "       [-1.54580365e+00, -1.44947925e+00],\n",
       "       [ 1.55960892e+00, -1.12523885e+00],\n",
       "       [ 3.60859409e-01,  1.78892928e+00],\n",
       "       [ 1.75072850e+00, -8.36759384e-01],\n",
       "       [-1.26239735e+00, -1.58360849e-01],\n",
       "       [ 1.28922799e+00, -7.21996708e-01],\n",
       "       [ 1.55244167e+00, -1.10136595e+00],\n",
       "       [ 1.68340262e+00, -1.40791500e+00],\n",
       "       [-1.16897942e+00, -6.48279549e-01],\n",
       "       [-5.42535732e-01,  2.35300306e+00],\n",
       "       [ 1.52995793e-01,  1.63162061e+00],\n",
       "       [-2.16909648e-01,  1.49487745e+00],\n",
       "       [-1.10319992e-01,  3.54977310e+00],\n",
       "       [ 1.83645893e+00, -1.23037317e+00],\n",
       "       [ 2.06481247e+00, -1.78980749e+00],\n",
       "       [ 2.02103179e-01,  8.96650596e-01],\n",
       "       [ 3.28230401e-01,  9.63463701e-01],\n",
       "       [-8.19277249e-01, -1.19416886e-01],\n",
       "       [-7.90352070e-01,  9.38212469e-01],\n",
       "       [ 1.67394349e+00, -1.33703520e+00],\n",
       "       [ 1.80722049e+00, -1.80674309e+00],\n",
       "       [-1.25824731e+00, -1.34013542e+00],\n",
       "       [-1.54046393e+00, -1.48572979e+00],\n",
       "       [ 1.05616125e+00, -7.63425405e-01],\n",
       "       [-1.68564320e-03,  1.10365236e+00],\n",
       "       [ 5.08522103e-01,  3.67308305e-01],\n",
       "       [ 6.63841842e-02,  1.92524024e+00],\n",
       "       [-1.05740439e+00, -9.86272666e-01],\n",
       "       [-7.51730898e-01, -4.05106347e-01],\n",
       "       [-1.47141113e+00, -8.39463446e-01],\n",
       "       [ 6.50450501e-01,  2.19627184e+00],\n",
       "       [-3.33853273e-01,  1.65373139e+00],\n",
       "       [-1.71555628e-02,  2.19372065e+00],\n",
       "       [-1.42744148e+00, -4.49544931e-01],\n",
       "       [ 1.63555254e+00, -1.87969483e+00]])"
      ]
     },
     "execution_count": 223,
     "metadata": {},
     "output_type": "execute_result"
    }
   ],
   "source": [
    "x_trainlda"
   ]
  },
  {
   "cell_type": "code",
   "execution_count": 224,
   "metadata": {},
   "outputs": [],
   "source": [
    "X_testlda = X_teststd.dot(W)"
   ]
  },
  {
   "cell_type": "code",
   "execution_count": 227,
   "metadata": {},
   "outputs": [
    {
     "data": {
      "image/png": "[encoded data removed]",
      "text/plain": [
       "<Figure size 432x288 with 1 Axes>"
      ]
     },
     "metadata": {},
     "output_type": "display_data"
    }
   ],
   "source": [
    "colors = ['r', 'b', 'g']\n",
    "markers = ['s', 'x', 'o']\n",
    "for y, c, m in zip(np.unique(y_train), colors, markers):\n",
    "    plt.scatter(X_trainlda[y_train==y,0], X_trainlda[y_train==y,1], color=c, marker=m, label=y)\n",
    "plt.xlabel('LD 1')\n",
    "plt.ylabel('LD 2')\n",
    "plt.legend(loc='best')\n",
    "plt.show()"
   ]
  },
  {
   "cell_type": "code",
   "execution_count": 240,
   "metadata": {},
   "outputs": [
    {
     "data": {
      "image/png": "[encoded data removed]",
      "text/plain": [
       "<Figure size 432x288 with 1 Axes>"
      ]
     },
     "metadata": {},
     "output_type": "display_data"
    }
   ],
   "source": [
    "#lda in scikit learn\n",
    "from  sklearn.discriminant_analysis import LinearDiscriminantAnalysis as LDA\n",
    "lda = LDA(n_components = 2)\n",
    "X_trainlda = lda.fit_transform(X_trainstd, y_train)\n",
    "lr = LogisticRegression()\n",
    "lr = lr.fit(X_trainlda, y_train)\n",
    "plt_decision_regions(X_trainlda, y_train, classifier=lr)\n",
    "plt.xlabel('LD 1')\n",
    "plt.ylabel('LD 2')\n",
    "plt.legend(loc='best')\n",
    "plt.show()"
   ]
  },
  {
   "cell_type": "code",
   "execution_count": 241,
   "metadata": {},
   "outputs": [
    {
     "data": {
      "image/png": "[encoded data removed]",
      "text/plain": [
       "<Figure size 432x288 with 1 Axes>"
      ]
     },
     "metadata": {},
     "output_type": "display_data"
    }
   ],
   "source": [
    "X_testlda = lda.transform(X_teststd)\n",
    "plt_decision_regions(X_testlda, y_test, classifier=lr)\n",
    "plt.xlabel('LD 1')\n",
    "plt.ylabel('LD 2')\n",
    "plt.legend(loc='best')\n",
    "plt.show()"
   ]
  },
  {
   "cell_type": "code",
   "execution_count": 1,
   "metadata": {
    "scrolled": true
   },
   "outputs": [
    {
     "ename": "NameError",
     "evalue": "name 'plt' is not defined",
     "output_type": "error",
     "traceback": [
      "\u001b[1;31m---------------------------------------------------------------------------\u001b[0m",
      "\u001b[1;31mNameError\u001b[0m                                 Traceback (most recent call last)",
      "\u001b[1;32m<ipython-input-1-a403ea308adc>\u001b[0m in \u001b[0;36m<module>\u001b[1;34m()\u001b[0m\n\u001b[0;32m      5\u001b[0m \u001b[0mkpca\u001b[0m \u001b[1;33m=\u001b[0m \u001b[0mKernelPCA\u001b[0m\u001b[1;33m(\u001b[0m\u001b[0mn_components\u001b[0m\u001b[1;33m=\u001b[0m\u001b[1;36m2\u001b[0m\u001b[1;33m,\u001b[0m \u001b[0mkernel\u001b[0m\u001b[1;33m=\u001b[0m\u001b[1;34m'rbf'\u001b[0m\u001b[1;33m,\u001b[0m \u001b[0mgamma\u001b[0m\u001b[1;33m=\u001b[0m\u001b[1;36m15\u001b[0m\u001b[1;33m)\u001b[0m\u001b[1;33m\u001b[0m\u001b[0m\n\u001b[0;32m      6\u001b[0m \u001b[0mX_skernpca\u001b[0m \u001b[1;33m=\u001b[0m \u001b[0mkpca\u001b[0m\u001b[1;33m.\u001b[0m\u001b[0mfit_transform\u001b[0m\u001b[1;33m(\u001b[0m\u001b[0mX\u001b[0m\u001b[1;33m)\u001b[0m\u001b[1;33m\u001b[0m\u001b[0m\n\u001b[1;32m----> 7\u001b[1;33m \u001b[0mplt\u001b[0m\u001b[1;33m.\u001b[0m\u001b[0mscatter\u001b[0m\u001b[1;33m(\u001b[0m\u001b[0mX\u001b[0m\u001b[1;33m[\u001b[0m\u001b[0my\u001b[0m\u001b[1;33m==\u001b[0m\u001b[1;36m0\u001b[0m\u001b[1;33m,\u001b[0m \u001b[1;36m0\u001b[0m\u001b[1;33m]\u001b[0m\u001b[1;33m,\u001b[0m \u001b[0mX_\u001b[0m\u001b[1;33m[\u001b[0m\u001b[0my\u001b[0m\u001b[1;33m==\u001b[0m\u001b[1;36m0\u001b[0m\u001b[1;33m,\u001b[0m \u001b[1;36m1\u001b[0m\u001b[1;33m]\u001b[0m\u001b[1;33m,\u001b[0m \u001b[0mcolor\u001b[0m\u001b[1;33m=\u001b[0m\u001b[1;34m'red'\u001b[0m\u001b[1;33m,\u001b[0m \u001b[0mmarker\u001b[0m\u001b[1;33m=\u001b[0m\u001b[1;34m'^'\u001b[0m\u001b[1;33m,\u001b[0m \u001b[0malpha\u001b[0m\u001b[1;33m=\u001b[0m\u001b[1;36m0.5\u001b[0m\u001b[1;33m,\u001b[0m \u001b[0mlabel\u001b[0m\u001b[1;33m=\u001b[0m\u001b[1;36m0\u001b[0m\u001b[1;33m)\u001b[0m\u001b[1;33m\u001b[0m\u001b[0m\n\u001b[0m\u001b[0;32m      8\u001b[0m \u001b[0mplt\u001b[0m\u001b[1;33m.\u001b[0m\u001b[0mscatter\u001b[0m\u001b[1;33m(\u001b[0m\u001b[0mX\u001b[0m\u001b[1;33m[\u001b[0m\u001b[0my\u001b[0m\u001b[1;33m==\u001b[0m\u001b[1;36m1\u001b[0m\u001b[1;33m,\u001b[0m \u001b[1;36m0\u001b[0m\u001b[1;33m]\u001b[0m\u001b[1;33m,\u001b[0m \u001b[0mX\u001b[0m\u001b[1;33m[\u001b[0m\u001b[0my\u001b[0m\u001b[1;33m==\u001b[0m\u001b[1;36m1\u001b[0m\u001b[1;33m,\u001b[0m \u001b[1;36m1\u001b[0m\u001b[1;33m]\u001b[0m\u001b[1;33m,\u001b[0m \u001b[0mcolor\u001b[0m\u001b[1;33m=\u001b[0m\u001b[1;34m'blue'\u001b[0m\u001b[1;33m,\u001b[0m \u001b[0mmarker\u001b[0m\u001b[1;33m=\u001b[0m\u001b[1;34m'o'\u001b[0m\u001b[1;33m,\u001b[0m \u001b[0malpha\u001b[0m\u001b[1;33m=\u001b[0m\u001b[1;36m0.5\u001b[0m\u001b[1;33m,\u001b[0m \u001b[0mlabel\u001b[0m\u001b[1;33m=\u001b[0m\u001b[1;36m1\u001b[0m\u001b[1;33m)\u001b[0m\u001b[1;33m\u001b[0m\u001b[0m\n\u001b[0;32m      9\u001b[0m \u001b[0mplt\u001b[0m\u001b[1;33m.\u001b[0m\u001b[0mxlabel\u001b[0m\u001b[1;33m(\u001b[0m\u001b[1;34m'PC1'\u001b[0m\u001b[1;33m)\u001b[0m\u001b[1;33m\u001b[0m\u001b[0m\n",
      "\u001b[1;31mNameError\u001b[0m: name 'plt' is not defined"
     ]
    }
   ],
   "source": [
    "#Kernel Principal Component Analysis\n",
    "from sklearn.decomposition import KernelPCA\n",
    "from sklearn.datasets import make_moons\n",
    "X, y = make_moons(n_samples=100, random_state=123)\n",
    "kpca = KernelPCA(n_components=2, kernel='rbf', gamma=15)\n",
    "X_skernpca = kpca.fit_transform(X)\n",
    "plt.scatter(X_skernpca[y==0, 0], X_skernpca[y==0, 1], color='red', marker='^', alpha=0.5, label=0)\n",
    "plt.scatter(X_skernpca[y==1, 0], X_skernpca[y==1, 1], color='blue', marker='o', alpha=0.5, label=1)\n",
    "plt.xlabel('PC1')\n",
    "plt.ylabel('PC2')\n",
    "plt.legend(loc='best')\n",
    "plt.show()"
   ]
  },
  {
   "cell_type": "code",
   "execution_count": 270,
   "metadata": {},
   "outputs": [
    {
     "data": {
      "image/png": "[encoded data removed]",
      "text/plain": [
       "<Figure size 432x288 with 1 Axes>"
      ]
     },
     "metadata": {},
     "output_type": "display_data"
    }
   ],
   "source": [
    "plt.scatter(X[y==0, 0], X[y==0, 1], color='red', marker='^', alpha=0.5, label=0)\n",
    "plt.scatter(X[y==1, 0], X[y==1, 1], color='blue', marker='o', alpha=0.5, label=1)\n",
    "plt.xlabel('PC1')\n",
    "plt.ylabel('PC2')\n",
    "plt.legend(loc='best')\n",
    "plt.show()"
   ]
  },
  {
   "cell_type": "code",
   "execution_count": 282,
   "metadata": {},
   "outputs": [
    {
     "data": {
      "image/png": "[encoded data removed]",
      "text/plain": [
       "<Figure size 432x288 with 1 Axes>"
      ]
     },
     "metadata": {},
     "output_type": "display_data"
    }
   ],
   "source": [
    "lr.fit(X_skernpca, y)\n",
    "plt_decision_regions(X_skernpca, y, classifier=lr)\n",
    "plt.xlabel(\"PC1\")\n",
    "plt.ylabel(\"PC2\")\n",
    "plt.ylim(-0.4, 0.4)\n",
    "plt.xlim(-0.4, 0.4)\n",
    "plt.legend(loc=\"best\")\n",
    "plt.show()"
   ]
  },
  {
   "cell_type": "code",
   "execution_count": 283,
   "metadata": {},
   "outputs": [
    {
     "data": {
      "image/png": "[encoded data removed]",
      "text/plain": [
       "<Figure size 432x288 with 1 Axes>"
      ]
     },
     "metadata": {},
     "output_type": "display_data"
    }
   ],
   "source": [
    "lr.fit(X, y)\n",
    "plt_decision_regions(X, y, classifier=lr)\n",
    "plt.xlabel(\"PC1\")\n",
    "plt.ylabel(\"PC2\")\n",
    "plt.ylim(-0.8, 1.5)\n",
    "plt.xlim(-1.5, 2.5)\n",
    "plt.legend(loc=\"best\")\n",
    "plt.show()"
   ]
  },
  {
   "cell_type": "code",
   "execution_count": null,
   "metadata": {},
   "outputs": [],
   "source": []
  },
  {
   "cell_type": "code",
   "execution_count": null,
   "metadata": {},
   "outputs": [],
   "source": []
  }
 ],
 "metadata": {
  "kernelspec": {
   "display_name": "Python 3",
   "language": "python",
   "name": "python3"
  },
  "language_info": {
   "codemirror_mode": {
    "name": "ipython",
    "version": 3
   },
   "file_extension": ".py",
   "mimetype": "text/x-python",
   "name": "python",
   "nbconvert_exporter": "python",
   "pygments_lexer": "ipython3",
   "version": "3.6.5"
  }
 },
 "nbformat": 4,
 "nbformat_minor": 2
}
